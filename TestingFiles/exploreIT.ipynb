{
 "cells": [
  {
   "cell_type": "code",
   "execution_count": 40,
   "metadata": {},
   "outputs": [],
   "source": [
    "import pandas as pd\n",
    "import numpy as np\n",
    "import matplotlib.pyplot as plt\n",
    "%matplotlib inline"
   ]
  },
  {
   "cell_type": "code",
   "execution_count": 2,
   "metadata": {},
   "outputs": [
    {
     "name": "stdout",
     "output_type": "stream",
     "text": [
      "(150, 5)\n",
      "   Label1  Label2  Label3  Label4       target\n",
      "0     5.1     3.5     1.4     0.2  Iris-setosa\n",
      "1     4.9     3.0     1.4     0.2  Iris-setosa\n",
      "2     4.7     3.2     1.3     0.2  Iris-setosa\n",
      "3     4.6     3.1     1.5     0.2  Iris-setosa\n",
      "4     5.0     3.6     1.4     0.2  Iris-setosa\n"
     ]
    }
   ],
   "source": [
    "iris = pd.read_csv(\"iris.csv\")\n",
    "print(iris.shape)\n",
    "print(iris.head())"
   ]
  },
  {
   "cell_type": "code",
   "execution_count": 4,
   "metadata": {},
   "outputs": [
    {
     "name": "stdout",
     "output_type": "stream",
     "text": [
      "Iris-setosa        50\n",
      "Iris-virginica     50\n",
      "Iris-versicolor    50\n",
      "Name: target, dtype: int64\n"
     ]
    }
   ],
   "source": [
    "valCnt = iris.target.value_counts()\n",
    "print(valCnt)"
   ]
  },
  {
   "cell_type": "code",
   "execution_count": 7,
   "metadata": {},
   "outputs": [
    {
     "name": "stdout",
     "output_type": "stream",
     "text": [
      "<class 'pandas.core.series.Series'>\n",
      "50\n",
      "50\n",
      "50\n"
     ]
    }
   ],
   "source": [
    "print(type(valCnt))\n",
    "for i in valCnt:\n",
    "    print(i)"
   ]
  },
  {
   "cell_type": "code",
   "execution_count": 43,
   "metadata": {},
   "outputs": [
    {
     "name": "stdout",
     "output_type": "stream",
     "text": [
      "dict_keys(['Iris-setosa', 'Iris-versicolor', 'Iris-virginica'])\n",
      "Iris-setosa        50\n",
      "Iris-virginica     50\n",
      "Iris-versicolor    50\n",
      "Name: target, dtype: int64\n"
     ]
    },
    {
     "data": {
      "image/png": "[encoded data removed]",
      "text/plain": [
       "<Figure size 504x504 with 1 Axes>"
      ]
     },
     "metadata": {
      "needs_background": "light"
     },
     "output_type": "display_data"
    }
   ],
   "source": [
    "dataDict = {}\n",
    "uniqueVals = iris['target'].unique()\n",
    "for i in uniqueVals:\n",
    "    cnt = len(iris[iris['target'] == i])\n",
    "    dataDict[i] = cnt\n",
    "    \n",
    "print(dataDict.keys())\n",
    "minval = 0\n",
    "minString = \"\"\n",
    "for i in dataDict.keys():\n",
    "    #print(i,dataDict[i])\n",
    "    pass\n",
    "    \n",
    "fig = plt.figure(figsize=(7,7))\n",
    "plt.xticks(np.arange(len(uniqueVals)),uniqueVals)\n",
    "arr = iris['target'].value_counts()\n",
    "print(arr)\n",
    "a = plt.bar(np.arange(len(dataDict.values())),iris['target'].value_counts())"
   ]
  },
  {
   "cell_type": "code",
   "execution_count": 20,
   "metadata": {},
   "outputs": [
    {
     "name": "stdout",
     "output_type": "stream",
     "text": [
      "   Label1  Label2  Label3  Label4       target\n",
      "0     5.1     3.5     1.4     0.2  Iris-setosa\n",
      "1     4.9     3.0     1.4     0.2  Iris-setosa\n",
      "2     4.7     3.2     1.3     0.2  Iris-setosa\n",
      "3     4.6     3.1     1.5     0.2  Iris-setosa\n",
      "4     5.0     3.6     1.4     0.2  Iris-setosa\n"
     ]
    }
   ],
   "source": [
    "print(iris.head())"
   ]
  },
  {
   "cell_type": "code",
   "execution_count": 24,
   "metadata": {},
   "outputs": [
    {
     "name": "stdout",
     "output_type": "stream",
     "text": [
      "50\n",
      "Iris-setosa\n"
     ]
    }
   ],
   "source": [
    "print(len(iris[iris['target'] == iris['target'][0]]))\n",
    "print(iris['target'][0])"
   ]
  },
  {
   "cell_type": "code",
   "execution_count": 50,
   "metadata": {},
   "outputs": [
    {
     "name": "stdout",
     "output_type": "stream",
     "text": [
      "(150, 5)\n"
     ]
    }
   ],
   "source": [
    "x = iris.corr()\n",
    "print(iris.shape)"
   ]
  },
  {
   "cell_type": "code",
   "execution_count": 46,
   "metadata": {},
   "outputs": [
    {
     "name": "stdout",
     "output_type": "stream",
     "text": [
      "          Label1    Label2    Label3    Label4\n",
      "Label1  1.000000 -0.109369  0.871754  0.817954\n",
      "Label2 -0.109369  1.000000 -0.420516 -0.356544\n",
      "Label3  0.871754 -0.420516  1.000000  0.962757\n",
      "Label4  0.817954 -0.356544  0.962757  1.000000\n"
     ]
    }
   ],
   "source": [
    "print(x)"
   ]
  },
  {
   "cell_type": "code",
   "execution_count": null,
   "metadata": {},
   "outputs": [],
   "source": []
  },
  {
   "cell_type": "code",
   "execution_count": 56,
   "metadata": {},
   "outputs": [
    {
     "name": "stdout",
     "output_type": "stream",
     "text": [
      "aldjf\n"
     ]
    }
   ],
   "source": [
    "if iris['Label1'].dtype == \"float64\":\n",
    "    print(\"aldjf\")"
   ]
  },
  {
   "cell_type": "code",
   "execution_count": 57,
   "metadata": {},
   "outputs": [],
   "source": [
    "train = pd.read_csv('train.csv')"
   ]
  },
  {
   "cell_type": "code",
   "execution_count": 58,
   "metadata": {},
   "outputs": [
    {
     "name": "stdout",
     "output_type": "stream",
     "text": [
      "employee_id             False\n",
      "department              False\n",
      "region                  False\n",
      "education                True\n",
      "gender                  False\n",
      "recruitment_channel     False\n",
      "no_of_trainings         False\n",
      "age                     False\n",
      "previous_year_rating     True\n",
      "length_of_service       False\n",
      "KPIs_met >80%           False\n",
      "awards_won?             False\n",
      "avg_training_score      False\n",
      "is_promoted             False\n",
      "dtype: bool\n"
     ]
    }
   ],
   "source": [
    "print(train.isnull().any())"
   ]
  },
  {
   "cell_type": "code",
   "execution_count": 59,
   "metadata": {},
   "outputs": [
    {
     "name": "stdout",
     "output_type": "stream",
     "text": [
      "<class 'pandas.core.frame.DataFrame'>\n",
      "RangeIndex: 54808 entries, 0 to 54807\n",
      "Data columns (total 14 columns):\n",
      "employee_id             54808 non-null int64\n",
      "department              54808 non-null object\n",
      "region                  54808 non-null object\n",
      "education               52399 non-null object\n",
      "gender                  54808 non-null object\n",
      "recruitment_channel     54808 non-null object\n",
      "no_of_trainings         54808 non-null int64\n",
      "age                     54808 non-null int64\n",
      "previous_year_rating    50684 non-null float64\n",
      "length_of_service       54808 non-null int64\n",
      "KPIs_met >80%           54808 non-null int64\n",
      "awards_won?             54808 non-null int64\n",
      "avg_training_score      54808 non-null int64\n",
      "is_promoted             54808 non-null int64\n",
      "dtypes: float64(1), int64(8), object(5)\n",
      "memory usage: 5.9+ MB\n",
      "None\n"
     ]
    }
   ],
   "source": [
    "print(train.info())"
   ]
  },
  {
   "cell_type": "code",
   "execution_count": 61,
   "metadata": {},
   "outputs": [
    {
     "name": "stdout",
     "output_type": "stream",
     "text": [
      "   employee_id         department    region         education gender  \\\n",
      "0        65438  Sales & Marketing  region_7  Master's & above      f   \n",
      "\n",
      "  recruitment_channel  no_of_trainings  age  previous_year_rating  \\\n",
      "0            sourcing                1   35                   5.0   \n",
      "\n",
      "   length_of_service  KPIs_met >80%  awards_won?  avg_training_score  \\\n",
      "0                  8              1            0                  49   \n",
      "\n",
      "   is_promoted  \n",
      "0            0  \n"
     ]
    }
   ],
   "source": [
    "print(train.head(1))"
   ]
  },
  {
   "cell_type": "code",
   "execution_count": 117,
   "metadata": {},
   "outputs": [],
   "source": [
    "def func(u,l,k):\n",
    "    \n",
    "    return (l*l*k)/(u*np.exp(u))"
   ]
  },
  {
   "cell_type": "code",
   "execution_count": 124,
   "metadata": {},
   "outputs": [
    {
     "name": "stdout",
     "output_type": "stream",
     "text": [
      "0.7033448419953695\n"
     ]
    }
   ],
   "source": [
    "print(func(16,5000,4))"
   ]
  },
  {
   "cell_type": "code",
   "execution_count": 208,
   "metadata": {},
   "outputs": [],
   "source": [
    "def covariance(column1,column2):\n",
    "    #print(\"inside covariance\")\n",
    "    try:\n",
    "        column1 = np.array(column1)\n",
    "        column2 = np.array(column2)\n",
    "\n",
    "        if(column1.shape[0] < 1 or column2.shape[0] < 1):\n",
    "            print(\"Please provide correct input.\")\n",
    "            return\n",
    "\n",
    "\n",
    "        if(column1.shape[0] != column2.shape[0] and column1.shape[1] != column2.shape[1]):\n",
    "            print(\"Please provide correct input with same shape\")\n",
    "            return\n",
    "\n",
    "        #print(\"The means are {} {}\".format(column1.mean(),column2.mean()))\n",
    "        sumVal = 0\n",
    "        col1 = (column1 - column1.mean())\n",
    "        col2 = (column2-column2.mean())\n",
    "        #print(col1,col2)\n",
    "        #print(col1*col2)\n",
    "        sumVal = sum(col1*col2)\n",
    "        #sumVal = sum((column1 - column1.mean()) * (column2-column2.mean()))\n",
    "        \n",
    "        #print(\"The sumval in covariance is : {}\".format(sumVal))\n",
    "        sumVal = sumVal / (column1.shape[0]) \n",
    "        \n",
    "        #print(\"The covariance value is : {}.\".format(sumVal))\n",
    "        return sumVal\n",
    "    \n",
    "        pass\n",
    "    except:\n",
    "        print(\"Something went wrong !\")\n",
    "        pass\n",
    "\n",
    "def correlation(column1,column2):\n",
    "    #print(\"inside correlation\")\n",
    "    try:\n",
    "        column1 = np.array(column1)\n",
    "        column2 = np.array(column2)\n",
    "\n",
    "        if(column1.shape[0] < 1 or column2.shape[0] < 1):\n",
    "            print(\"Please provide correct input.\")\n",
    "            return\n",
    "\n",
    "        stdColumn1 = column1.std()\n",
    "        stdColumn2 = column2.std()\n",
    "        print(stdColumn1)\n",
    "        print(stdColumn2)\n",
    "        \n",
    "        covarianceValue = covariance(column1,column2)\n",
    "        correlationValue = (covarianceValue) / (stdColumn1*stdColumn2)\n",
    "        \n",
    "        #print(\"The correlation value is : {}\".format(correlationValue))\n",
    "        return correlationValue\n",
    "        pass\n",
    "    \n",
    "    except:\n",
    "        print(\"Something went wrong !\")\n",
    "        pass"
   ]
  },
  {
   "cell_type": "code",
   "execution_count": 211,
   "metadata": {},
   "outputs": [
    {
     "name": "stdout",
     "output_type": "stream",
     "text": [
      "   employee_id         department    region         education gender  \\\n",
      "0        65438  Sales & Marketing  region_7  Master's & above      f   \n",
      "\n",
      "  recruitment_channel  no_of_trainings  age  previous_year_rating  \\\n",
      "0            sourcing                1   35                   5.0   \n",
      "\n",
      "   length_of_service  KPIs_met >80%  awards_won?  avg_training_score  \\\n",
      "0                  8              1            0                  49   \n",
      "\n",
      "   is_promoted  \n",
      "0            0  \n"
     ]
    }
   ],
   "source": [
    "print(train.head(1))"
   ]
  },
  {
   "cell_type": "code",
   "execution_count": 212,
   "metadata": {},
   "outputs": [
    {
     "name": "stdout",
     "output_type": "stream",
     "text": [
      "count    54808.000000\n",
      "mean        34.803915\n",
      "std          7.660169\n",
      "min         20.000000\n",
      "25%         29.000000\n",
      "50%         33.000000\n",
      "75%         39.000000\n",
      "max         60.000000\n",
      "Name: age, dtype: float64\n"
     ]
    }
   ],
   "source": [
    "print(train['age'].describe())"
   ]
  },
  {
   "cell_type": "code",
   "execution_count": 214,
   "metadata": {},
   "outputs": [],
   "source": [
    "dVal = train['age'].describe()"
   ]
  },
  {
   "cell_type": "code",
   "execution_count": 220,
   "metadata": {},
   "outputs": [
    {
     "name": "stdout",
     "output_type": "stream",
     "text": [
      "The inner fence is bounded by (-38921.375,117321.625).\n",
      "The outer fence is bounded by (-97512.5,175912.75).\n"
     ]
    }
   ],
   "source": [
    "dVal = train['employee_id'].describe()\n",
    "q1 = dVal['25%']\n",
    "median = dVal['50%']\n",
    "q3 = dVal['75%']\n",
    "interQuartileRange = q3 - q1\n",
    "## inner fences ....\n",
    "lowerBoundInner = q1 - (1.5 * interQuartileRange)\n",
    "upperBoundInner = q3 + (1.5 * interQuartileRange)\n",
    "print(\"The inner fence is bounded by ({},{}).\".format(lowerBoundInner,upperBoundInner))\n",
    "\n",
    "lowerBoundOuter = q1 - (3 * interQuartileRange)\n",
    "upperBoundOuter = q3 + (3 * interQuartileRange)\n",
    "print(\"The outer fence is bounded by ({},{}).\".format(lowerBoundOuter,upperBoundOuter))"
   ]
  },
  {
   "cell_type": "code",
   "execution_count": 225,
   "metadata": {},
   "outputs": [
    {
     "data": {
      "image/png": "[encoded data removed]",
      "text/plain": [
       "<Figure size 432x288 with 1 Axes>"
      ]
     },
     "metadata": {
      "needs_background": "light"
     },
     "output_type": "display_data"
    }
   ],
   "source": [
    "a = plt.hist(train['age'],bins=100)\n"
   ]
  },
  {
   "cell_type": "code",
   "execution_count": 273,
   "metadata": {},
   "outputs": [],
   "source": [
    "def FPSkewness(data,column):\n",
    "    # fischer-pearson skewness .....\n",
    "\n",
    "    # find out the skewness of the data .....\n",
    "    try:\n",
    "        #print(\"inside\")\n",
    "        column1 = np.array(data[column])\n",
    "        n = column1.shape[0]\n",
    "        if column1.shape[0] < 1:\n",
    "            print(\"Please provide valid input.\")\n",
    "            return -8888\n",
    "        #print(\"outside\")\n",
    "        retVal =  sum(pow(column1 - column1.mean(),3)) / (column1.shape[0])\n",
    "        #print(retVal)\n",
    "        stdDev = column1.std()\n",
    "        #print(retVal,stdDev)\n",
    "        #print(retVal,stdDev)\n",
    "        retVal = retVal / pow(stdDev,3)\n",
    "        #retVal = (retVal * n) / ((n-1)*(n-2))\n",
    "        #print(retVal,stdDev)\n",
    "        #print(\"The skewness value is : {}.\".format(retVal))\n",
    "        return retVal\n",
    "        \n",
    "    except:\n",
    "        print(\"Something went wrong !\")\n",
    "        return -8888\n",
    "        \n",
    "    \n",
    "def GOBSkewness(data,column):\n",
    "\n",
    "    try:\n",
    "        if data[column].shape[0] < 1:\n",
    "            print(\"Please provide valid input.\")\n",
    "            return -8888\n",
    "\n",
    "        dVal = data[column].describe()\n",
    "        #print(dVal)\n",
    "        q1 = dVal['25%']\n",
    "        q2 = dVal['50%']\n",
    "        q3 = dVal['75%']\n",
    "\n",
    "        retVal = (q1 + q3 - 2*q2) / (q3 - q1)\n",
    "\n",
    "        return retVal\n",
    "    except:\n",
    "        print(\"Something went wrong !\")\n",
    "        \n",
    "def kurtosis(data,column):\n",
    "\n",
    "    column1 = np.array(data[column])\n",
    "    n = column1.shape[0]\n",
    "    if column1.shape[0] < 1:\n",
    "        print(\"Please provide valid input.\")\n",
    "        return -8888\n",
    "    stdDev = column1.std()\n",
    "    retVal =  sum(pow(column1 - column1.mean(),4)) / (column1.shape[0])\n",
    "    retVal = retVal / pow(stdDev,4)\n",
    "    retVal -= 3 # to make normal distribution have 0 kurtosis ...\n",
    "    return retVal"
   ]
  },
  {
   "cell_type": "code",
   "execution_count": 276,
   "metadata": {},
   "outputs": [
    {
     "name": "stdout",
     "output_type": "stream",
     "text": [
      "0.2\n",
      "1.0074041991664595\n",
      "0.7921716155049685\n"
     ]
    }
   ],
   "source": [
    "print(GOBSkewness(train,'age'))\n",
    "print(FPSkewness(train,'age'))\n",
    "print(kurtosis(train,'age'))"
   ]
  },
  {
   "cell_type": "code",
   "execution_count": 281,
   "metadata": {},
   "outputs": [
    {
     "data": {
      "image/png": "[encoded data removed]",
      "text/plain": [
       "<Figure size 432x288 with 1 Axes>"
      ]
     },
     "metadata": {
      "needs_background": "light"
     },
     "output_type": "display_data"
    }
   ],
   "source": [
    "a = plt.hist(train['age'],bins=100)"
   ]
  },
  {
   "cell_type": "code",
   "execution_count": null,
   "metadata": {},
   "outputs": [],
   "source": []
  },
  {
   "cell_type": "code",
   "execution_count": 287,
   "metadata": {},
   "outputs": [
    {
     "name": "stdout",
     "output_type": "stream",
     "text": [
      "Module eggs doesn't exists.\n"
     ]
    }
   ],
   "source": [
    "import imp\n",
    "try:\n",
    "    imp.find_module('imblearn')\n",
    "    found = True\n",
    "except ImportError:\n",
    "    print(\"Module eggs doesn't exists.\")"
   ]
  },
  {
   "cell_type": "code",
   "execution_count": null,
   "metadata": {},
   "outputs": [],
   "source": []
  },
  {
   "cell_type": "code",
   "execution_count": null,
   "metadata": {},
   "outputs": [],
   "source": []
  },
  {
   "cell_type": "code",
   "execution_count": null,
   "metadata": {},
   "outputs": [],
   "source": []
  },
  {
   "cell_type": "code",
   "execution_count": null,
   "metadata": {},
   "outputs": [],
   "source": []
  },
  {
   "cell_type": "code",
   "execution_count": null,
   "metadata": {},
   "outputs": [],
   "source": []
  }
 ],
 "metadata": {
  "kernelspec": {
   "display_name": "Python 3",
   "language": "python",
   "name": "python3"
  },
  "language_info": {
   "codemirror_mode": {
    "name": "ipython",
    "version": 3
   },
   "file_extension": ".py",
   "mimetype": "text/x-python",
   "name": "python",
   "nbconvert_exporter": "python",
   "pygments_lexer": "ipython3",
   "version": "3.7.3"
  }
 },
 "nbformat": 4,
 "nbformat_minor": 2
}
